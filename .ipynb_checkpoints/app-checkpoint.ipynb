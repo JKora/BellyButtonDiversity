{
 "cells": [
  {
   "cell_type": "code",
   "execution_count": null,
   "metadata": {
    "collapsed": true
   },
   "outputs": [],
   "source": [
    "# %load app.py\n",
    "# import libraries\n",
    "import numpy as np \n",
    "from flask import (Flask, render_template, jsonify, request, redirect)\n",
    "\n",
    "# Flask Setup\n",
    "app = Flask(__name__)\n",
    "\n",
    "# Database Setup\n",
    "from flask_sqlalchemy import SQLAlchemy \n",
    "app.config['SQLALCHEMY_DATABASE_URI'] = \"sqlite://DataSets/belly_button_biodiversity.sqlite\"\n",
    "\n",
    "db = SQLAlchemy(app)\n",
    "\n",
    "class Metadata(db.Model):\n",
    "    __tablename__ = 'metadata'\n",
    "\n",
    "    sample_id = db.Column(db.Integer, primary_key=True)\n",
    "    event = db.Column(db.String(64))\n",
    "    ethinicity = db.Column(db.String(64))\n",
    "    gender = db.Column(db.String(64))\n",
    "    age = db.Column(db.Integer)\n",
    "    wfreq = db.Column(db.Integer)\n",
    "    bbtype = db.Column\n",
    "\n",
    "    def __repr__(self):\n",
    "        return '<Pet %r>' % (self.nickname)\n",
    "\n"
   ]
  },
  {
   "cell_type": "code",
   "execution_count": 8,
   "metadata": {
    "collapsed": true
   },
   "outputs": [],
   "source": [
    "# Import dependencies\n",
    "import sqlalchemy\n",
    "from sqlalchemy.ext.automap import automap_base\n",
    "from sqlalchemy.orm import Session\n",
    "from sqlalchemy import create_engine\n",
    "from sqlalchemy import func\n",
    "from sqlalchemy import distinct\n",
    "\n",
    "from flask import (Flask, render_template, jsonify, request, redirect)\n",
    "\n",
    "import numpy as np\n",
    "import pandas as pd"
   ]
  },
  {
   "cell_type": "code",
   "execution_count": 9,
   "metadata": {
    "collapsed": true
   },
   "outputs": [],
   "source": [
    "#Create engine for the bellybutton biodiversity table\n",
    "engine = create_engine(\"sqlite:///belly_button_biodiversity.sqlite\")"
   ]
  },
  {
   "cell_type": "code",
   "execution_count": 10,
   "metadata": {},
   "outputs": [
    {
     "data": {
      "text/plain": [
       "['otu', 'samples', 'samples_metadata']"
      ]
     },
     "execution_count": 10,
     "metadata": {},
     "output_type": "execute_result"
    }
   ],
   "source": [
    "# reflect databases in ORM Classes\n",
    "Base = automap_base()\n",
    "Base.prepare(engine, reflect = True)\n",
    "Base.classes.keys()"
   ]
  },
  {
   "cell_type": "code",
   "execution_count": 11,
   "metadata": {
    "collapsed": true
   },
   "outputs": [],
   "source": [
    "# save reference to samples table as Samples\n",
    "Samples = Base.classes.samples\n",
    "Metadata = Base.classes.samples_metadata\n",
    "OTU = Base.classes.otu"
   ]
  },
  {
   "cell_type": "code",
   "execution_count": 12,
   "metadata": {
    "collapsed": true
   },
   "outputs": [],
   "source": [
    "#create  a database session object\n",
    "session = Session(engine)"
   ]
  },
  {
   "cell_type": "code",
   "execution_count": 14,
   "metadata": {
    "collapsed": true
   },
   "outputs": [],
   "source": [
    "#list all of the samples\n",
    "sampleid_list = session.query(Metadata.SAMPLEID).all()"
   ]
  },
  {
   "cell_type": "code",
   "execution_count": 15,
   "metadata": {
    "collapsed": true
   },
   "outputs": [],
   "source": [
    "sample_list = list(np.ravel(sampleid_list))"
   ]
  },
  {
   "cell_type": "code",
   "execution_count": 16,
   "metadata": {
    "collapsed": true
   },
   "outputs": [],
   "source": [
    "pretty_sample = []\n",
    "\n",
    "for sample in sample_list:\n",
    "    pretty_sample.append(\"BB_\"+str(sample))\n"
   ]
  },
  {
   "cell_type": "code",
   "execution_count": 17,
   "metadata": {},
   "outputs": [
    {
     "data": {
      "text/plain": [
       "'BB_940'"
      ]
     },
     "execution_count": 17,
     "metadata": {},
     "output_type": "execute_result"
    }
   ],
   "source": [
    "pretty_sample[0]"
   ]
  },
  {
   "cell_type": "code",
   "execution_count": 18,
   "metadata": {},
   "outputs": [
    {
     "data": {
      "text/plain": [
       "[('Archaea;Euryarchaeota;Halobacteria;Halobacteriales;Halobacteriaceae;Halococcus'),\n",
       " ('Archaea;Euryarchaeota;Halobacteria;Halobacteriales;Halobacteriaceae;Natronorubrum'),\n",
       " ('Archaea;Euryarchaeota;Methanobacteria;Methanobacteriales;Methanobacteriaceae;Methanobrevibacter'),\n",
       " ('Bacteria'),\n",
       " ('Bacteria;Acidobacteria;Acidobacteria_Gp1;Gp1'),\n",
       " ('Bacteria;Acidobacteria;Acidobacteria_Gp10;Gp10'),\n",
       " ('Bacteria;Acidobacteria;Acidobacteria_Gp16;Gp16'),\n",
       " ('Bacteria;Acidobacteria;Acidobacteria_Gp2;Gp2'),\n",
       " ('Bacteria;Acidobacteria;Acidobacteria_Gp3;Gp3'),\n",
       " ('Bacteria;Acidobacteria;Acidobacteria_Gp4;Gp4'),\n",
       " ('Bacteria;Acidobacteria;Acidobacteria_Gp6;Gp6'),\n",
       " ('Bacteria;Actinobacteria;Actinobacteria'),\n",
       " ('Bacteria;Actinobacteria;Actinobacteria;Acidimicrobiales'),\n",
       " ('Bacteria;Actinobacteria;Actinobacteria;Acidimicrobiales;Iamiaceae;Iamia'),\n",
       " ('Bacteria;Actinobacteria;Actinobacteria;Acidimicrobidae_incertae_sedis;Ilumatobacter'),\n",
       " ('Bacteria;Actinobacteria;Actinobacteria;Actinomycetales'),\n",
       " ('Bacteria;Actinobacteria;Actinobacteria;Actinomycetales;Actinomycetaceae'),\n",
       " ('Bacteria;Actinobacteria;Actinobacteria;Actinomycetales;Actinomycetaceae;Actinobaculum'),\n",
       " ('Bacteria;Actinobacteria;Actinobacteria;Actinomycetales;Actinomycetaceae;Actinomyces'),\n",
       " ('Bacteria;Actinobacteria;Actinobacteria;Actinomycetales;Actinomycetaceae;Arcanobacterium'),\n",
       " ('Bacteria;Actinobacteria;Actinobacteria;Actinomycetales;Actinomycetaceae;Mobiluncus'),\n",
       " ('Bacteria;Actinobacteria;Actinobacteria;Actinomycetales;Actinomycetaceae;Varibaculum'),\n",
       " ('Bacteria;Actinobacteria;Actinobacteria;Actinomycetales;Bogoriellaceae;Georgenia'),\n",
       " ('Bacteria;Actinobacteria;Actinobacteria;Actinomycetales;Brevibacteriaceae;Brevibacterium'),\n",
       " ('Bacteria;Actinobacteria;Actinobacteria;Actinomycetales;Cellulomonadaceae'),\n",
       " ('Bacteria;Actinobacteria;Actinobacteria;Actinomycetales;Corynebacteriaceae'),\n",
       " ('Bacteria;Actinobacteria;Actinobacteria;Actinomycetales;Corynebacteriaceae;Corynebacterium'),\n",
       " ('Bacteria;Actinobacteria;Actinobacteria;Actinomycetales;Corynebacteriaceae;Turicella'),\n",
       " ('Bacteria;Actinobacteria;Actinobacteria;Actinomycetales;Dermabacteraceae'),\n",
       " ('Bacteria;Actinobacteria;Actinobacteria;Actinomycetales;Dermabacteraceae;Brachybacterium'),\n",
       " ('Bacteria;Actinobacteria;Actinobacteria;Actinomycetales;Dermabacteraceae;Dermabacter'),\n",
       " ('Bacteria;Actinobacteria;Actinobacteria;Actinomycetales;Dermacoccaceae;Dermacoccus'),\n",
       " ('Bacteria;Actinobacteria;Actinobacteria;Actinomycetales;Dermacoccaceae;Kytococcus'),\n",
       " ('Bacteria;Actinobacteria;Actinobacteria;Actinomycetales;Dietziaceae;Dietzia'),\n",
       " ('Bacteria;Actinobacteria;Actinobacteria;Actinomycetales;Intrasporangiaceae'),\n",
       " ('Bacteria;Actinobacteria;Actinobacteria;Actinomycetales;Intrasporangiaceae;Arsenicicoccus'),\n",
       " ('Bacteria;Actinobacteria;Actinobacteria;Actinomycetales;Intrasporangiaceae;Janibacter'),\n",
       " ('Bacteria;Actinobacteria;Actinobacteria;Actinomycetales;Intrasporangiaceae;Ornithinimicrobium'),\n",
       " ('Bacteria;Actinobacteria;Actinobacteria;Actinomycetales;Intrasporangiaceae;Phycicoccus'),\n",
       " ('Bacteria;Actinobacteria;Actinobacteria;Actinomycetales;Intrasporangiaceae;Terrabacter'),\n",
       " ('Bacteria;Actinobacteria;Actinobacteria;Actinomycetales;Kineosporiaceae'),\n",
       " ('Bacteria;Actinobacteria;Actinobacteria;Actinomycetales;Kineosporiaceae;Quadrisphaera'),\n",
       " ('Bacteria;Actinobacteria;Actinobacteria;Actinomycetales;Microbacteriaceae'),\n",
       " ('Bacteria;Actinobacteria;Actinobacteria;Actinomycetales;Microbacteriaceae;Zimmermannella'),\n",
       " ('Bacteria;Actinobacteria;Actinobacteria;Actinomycetales;Micrococcaceae'),\n",
       " ('Bacteria;Actinobacteria;Actinobacteria;Actinomycetales;Micrococcaceae;Arthrobacter'),\n",
       " ('Bacteria;Actinobacteria;Actinobacteria;Actinomycetales;Micrococcaceae;Kocuria'),\n",
       " ('Bacteria;Actinobacteria;Actinobacteria;Actinomycetales;Micrococcaceae;Micrococcus'),\n",
       " ('Bacteria;Actinobacteria;Actinobacteria;Actinomycetales;Micrococcaceae;Rothia'),\n",
       " ('Bacteria;Actinobacteria;Actinobacteria;Actinomycetales;Micrococcineae_incertae_sedis;Ruania'),\n",
       " ('Bacteria;Actinobacteria;Actinobacteria;Actinomycetales;Micromonosporaceae'),\n",
       " ('Bacteria;Actinobacteria;Actinobacteria;Actinomycetales;Micromonosporaceae;Virgisporangium'),\n",
       " ('Bacteria;Actinobacteria;Actinobacteria;Actinomycetales;Nakamurellaceae'),\n",
       " ('Bacteria;Actinobacteria;Actinobacteria;Actinomycetales;Nocardiaceae;Gordonia'),\n",
       " ('Bacteria;Actinobacteria;Actinobacteria;Actinomycetales;Nocardiaceae;Millisia'),\n",
       " ('Bacteria;Actinobacteria;Actinobacteria;Actinomycetales;Nocardiaceae;Rhodococcus'),\n",
       " ('Bacteria;Actinobacteria;Actinobacteria;Actinomycetales;Nocardiaceae;Williamsia'),\n",
       " ('Bacteria;Actinobacteria;Actinobacteria;Actinomycetales;Nocardioidaceae'),\n",
       " ('Bacteria;Actinobacteria;Actinobacteria;Actinomycetales;Nocardioidaceae;Aeromicrobium'),\n",
       " ('Bacteria;Actinobacteria;Actinobacteria;Actinomycetales;Nocardioidaceae;Marmoricola'),\n",
       " ('Bacteria;Actinobacteria;Actinobacteria;Actinomycetales;Nocardioidaceae;Nocardioides'),\n",
       " ('Bacteria;Actinobacteria;Actinobacteria;Actinomycetales;Propionibacteriaceae'),\n",
       " ('Bacteria;Actinobacteria;Actinobacteria;Actinomycetales;Propionibacteriaceae;Propionibacterium'),\n",
       " ('Bacteria;Actinobacteria;Actinobacteria;Actinomycetales;Pseudonocardiaceae'),\n",
       " ('Bacteria;Actinobacteria;Actinobacteria;Actinomycetales;Pseudonocardiaceae;Actinomycetospora'),\n",
       " ('Bacteria;Actinobacteria;Actinobacteria;Actinomycetales;Pseudonocardiaceae;Saccharopolyspora'),\n",
       " ('Bacteria;Actinobacteria;Actinobacteria;Actinomycetales;Pseudonocardiaceae;Sciscionella'),\n",
       " ('Bacteria;Actinobacteria;Actinobacteria;Actinomycetales;Streptomycetaceae'),\n",
       " ('Bacteria;Actinobacteria;Actinobacteria;Actinomycetales;Thermomonosporaceae'),\n",
       " ('Bacteria;Actinobacteria;Actinobacteria;Bifidobacteriales;Bifidobacteriaceae'),\n",
       " ('Bacteria;Actinobacteria;Actinobacteria;Bifidobacteriales;Bifidobacteriaceae;Alloscardovia'),\n",
       " ('Bacteria;Actinobacteria;Actinobacteria;Bifidobacteriales;Bifidobacteriaceae;Bifidobacterium'),\n",
       " ('Bacteria;Actinobacteria;Actinobacteria;Bifidobacteriales;Bifidobacteriaceae;Gardnerella'),\n",
       " ('Bacteria;Actinobacteria;Actinobacteria;Coriobacteriales;Coriobacteriaceae'),\n",
       " ('Bacteria;Actinobacteria;Actinobacteria;Coriobacteriales;Coriobacteriaceae;Atopobium'),\n",
       " ('Bacteria;Actinobacteria;Actinobacteria;Rubrobacterales;Rubrobacteraceae;Rubrobacter'),\n",
       " ('Bacteria;Actinobacteria;Actinobacteria;Solirubrobacterales'),\n",
       " ('Bacteria;Actinobacteria;Actinobacteria;Solirubrobacterales;Conexibacteraceae;Conexibacter'),\n",
       " ('Bacteria;Actinobacteria;Actinobacteria;Solirubrobacterales;Solirubrobacteraceae;Solirubrobacter'),\n",
       " ('Bacteria;Bacteroidetes'),\n",
       " ('Bacteria;Bacteroidetes;Bacteroidia;Bacteroidales'),\n",
       " ('Bacteria;Bacteroidetes;Bacteroidia;Bacteroidales;Bacteroidaceae;Bacteroides'),\n",
       " ('Bacteria;Bacteroidetes;Bacteroidia;Bacteroidales;Bacteroidales_incertae_sedis;Phocaeicola'),\n",
       " ('Bacteria;Bacteroidetes;Bacteroidia;Bacteroidales;Porphyromonadaceae'),\n",
       " ('Bacteria;Bacteroidetes;Bacteroidia;Bacteroidales;Porphyromonadaceae;Barnesiella'),\n",
       " ('Bacteria;Bacteroidetes;Bacteroidia;Bacteroidales;Porphyromonadaceae;Parabacteroides'),\n",
       " ('Bacteria;Bacteroidetes;Bacteroidia;Bacteroidales;Porphyromonadaceae;Porphyromonas'),\n",
       " ('Bacteria;Bacteroidetes;Bacteroidia;Bacteroidales;Prevotellaceae'),\n",
       " ('Bacteria;Bacteroidetes;Bacteroidia;Bacteroidales;Prevotellaceae;Hallella'),\n",
       " ('Bacteria;Bacteroidetes;Bacteroidia;Bacteroidales;Prevotellaceae;Paraprevotella'),\n",
       " ('Bacteria;Bacteroidetes;Bacteroidia;Bacteroidales;Prevotellaceae;Prevotella'),\n",
       " ('Bacteria;Bacteroidetes;Flavobacteria;Flavobacteriales'),\n",
       " ('Bacteria;Bacteroidetes;Flavobacteria;Flavobacteriales;Flavobacteriaceae'),\n",
       " ('Bacteria;Bacteroidetes;Flavobacteria;Flavobacteriales;Flavobacteriaceae;Capnocytophaga'),\n",
       " ('Bacteria;Bacteroidetes;Flavobacteria;Flavobacteriales;Flavobacteriaceae;Chryseobacterium'),\n",
       " ('Bacteria;Bacteroidetes;Flavobacteria;Flavobacteriales;Flavobacteriaceae;Cloacibacterium'),\n",
       " ('Bacteria;Bacteroidetes;Flavobacteria;Flavobacteriales;Flavobacteriaceae;Flavobacterium'),\n",
       " ('Bacteria;Bacteroidetes;Flavobacteria;Flavobacteriales;Flavobacteriaceae;Marixanthomonas'),\n",
       " ('Bacteria;Bacteroidetes;Flavobacteria;Flavobacteriales;Flavobacteriaceae;Myroides'),\n",
       " ('Bacteria;Bacteroidetes;Flavobacteria;Flavobacteriales;Flavobacteriaceae;Wautersiella'),\n",
       " ('Bacteria;Bacteroidetes;Sphingobacteria;Sphingobacteriales'),\n",
       " ('Bacteria;Bacteroidetes;Sphingobacteria;Sphingobacteriales;Chitinophagaceae'),\n",
       " ('Bacteria;Bacteroidetes;Sphingobacteria;Sphingobacteriales;Chitinophagaceae;Flavisolibacter'),\n",
       " ('Bacteria;Bacteroidetes;Sphingobacteria;Sphingobacteriales;Chitinophagaceae;Parasegetibacter'),\n",
       " ('Bacteria;Bacteroidetes;Sphingobacteria;Sphingobacteriales;Chitinophagaceae;Sediminibacterium'),\n",
       " ('Bacteria;Bacteroidetes;Sphingobacteria;Sphingobacteriales;Cyclobacteriaceae'),\n",
       " ('Bacteria;Bacteroidetes;Sphingobacteria;Sphingobacteriales;Cytophagaceae'),\n",
       " ('Bacteria;Bacteroidetes;Sphingobacteria;Sphingobacteriales;Cytophagaceae;Adhaeribacter'),\n",
       " ('Bacteria;Bacteroidetes;Sphingobacteria;Sphingobacteriales;Cytophagaceae;Emticicia'),\n",
       " ('Bacteria;Bacteroidetes;Sphingobacteria;Sphingobacteriales;Cytophagaceae;Hymenobacter'),\n",
       " ('Bacteria;Bacteroidetes;Sphingobacteria;Sphingobacteriales;Cytophagaceae;Pontibacter'),\n",
       " ('Bacteria;Bacteroidetes;Sphingobacteria;Sphingobacteriales;Cytophagaceae;Spirosoma'),\n",
       " ('Bacteria;Bacteroidetes;Sphingobacteria;Sphingobacteriales;Sphingobacteriaceae'),\n",
       " ('Bacteria;Bacteroidetes;Sphingobacteria;Sphingobacteriales;Sphingobacteriaceae;Mucilaginibacter'),\n",
       " ('Bacteria;Bacteroidetes;Sphingobacteria;Sphingobacteriales;Sphingobacteriaceae;Nubsella'),\n",
       " ('Bacteria;Bacteroidetes;Sphingobacteria;Sphingobacteriales;Sphingobacteriaceae;Sphingobacterium'),\n",
       " ('Bacteria;Chlamydiae;Chlamydiae;Chlamydiales'),\n",
       " ('Bacteria;Chlamydiae;Chlamydiae;Chlamydiales;Parachlamydiaceae'),\n",
       " ('Bacteria;Chlamydiae;Chlamydiae;Chlamydiales;Parachlamydiaceae;Neochlamydia'),\n",
       " ('Bacteria;Cyanobacteria;Cyanobacteria'),\n",
       " ('Bacteria;Cyanobacteria;Cyanobacteria;Chloroplast'),\n",
       " ('Bacteria;Cyanobacteria;Cyanobacteria;Chloroplast;Chlorophyta'),\n",
       " ('Bacteria;Cyanobacteria;Cyanobacteria;Chloroplast;Streptophyta'),\n",
       " ('Bacteria;Cyanobacteria;Cyanobacteria;FamilyI;GpI'),\n",
       " ('Bacteria;Deinococcus-Thermus;Deinococci;Deinococcales;Deinococcaceae;Deinococcus'),\n",
       " ('Bacteria;Deinococcus-Thermus;Deinococci;Deinococcales;Trueperaceae;Truepera'),\n",
       " ('Bacteria;Firmicutes'),\n",
       " ('Bacteria;Firmicutes;Bacilli'),\n",
       " ('Bacteria;Firmicutes;Bacilli;Bacillales'),\n",
       " ('Bacteria;Firmicutes;Bacilli;Bacillales;Bacillaceae'),\n",
       " ('Bacteria;Firmicutes;Bacilli;Bacillales;Bacillaceae;Exiguobacterium'),\n",
       " ('Bacteria;Firmicutes;Bacilli;Bacillales;Bacillaceae;Geobacillus'),\n",
       " ('Bacteria;Firmicutes;Bacilli;Bacillales;Bacillaceae;Tumebacillus'),\n",
       " ('Bacteria;Firmicutes;Bacilli;Bacillales;Listeriaceae;Brochothrix'),\n",
       " ('Bacteria;Firmicutes;Bacilli;Bacillales;Paenibacillaceae'),\n",
       " ('Bacteria;Firmicutes;Bacilli;Bacillales;Paenibacillaceae;Paenibacillus'),\n",
       " ('Bacteria;Firmicutes;Bacilli;Bacillales;Planococcaceae'),\n",
       " ('Bacteria;Firmicutes;Bacilli;Bacillales;Staphylococcaceae'),\n",
       " ('Bacteria;Firmicutes;Bacilli;Bacillales;Staphylococcaceae;Gemella'),\n",
       " ('Bacteria;Firmicutes;Bacilli;Bacillales;Staphylococcaceae;Jeotgalicoccus'),\n",
       " ('Bacteria;Firmicutes;Bacilli;Bacillales;Staphylococcaceae;Macrococcus'),\n",
       " ('Bacteria;Firmicutes;Bacilli;Bacillales;Staphylococcaceae;Nosocomiicoccus'),\n",
       " ('Bacteria;Firmicutes;Bacilli;Bacillales;Staphylococcaceae;Staphylococcus'),\n",
       " ('Bacteria;Firmicutes;Bacilli;Bacillales;Thermoactinomycetaceae;Thermoactinomyces'),\n",
       " ('Bacteria;Firmicutes;Bacilli;Lactobacillales'),\n",
       " ('Bacteria;Firmicutes;Bacilli;Lactobacillales;Aerococcaceae'),\n",
       " ('Bacteria;Firmicutes;Bacilli;Lactobacillales;Aerococcaceae;Abiotrophia'),\n",
       " ('Bacteria;Firmicutes;Bacilli;Lactobacillales;Aerococcaceae;Aerococcus'),\n",
       " ('Bacteria;Firmicutes;Bacilli;Lactobacillales;Aerococcaceae;Eremococcus'),\n",
       " ('Bacteria;Firmicutes;Bacilli;Lactobacillales;Aerococcaceae;Facklamia'),\n",
       " ('Bacteria;Firmicutes;Bacilli;Lactobacillales;Aerococcaceae;Ignavigranum'),\n",
       " ('Bacteria;Firmicutes;Bacilli;Lactobacillales;Carnobacteriaceae'),\n",
       " ('Bacteria;Firmicutes;Bacilli;Lactobacillales;Carnobacteriaceae;Dolosigranulum'),\n",
       " ('Bacteria;Firmicutes;Bacilli;Lactobacillales;Carnobacteriaceae;Granulicatella'),\n",
       " ('Bacteria;Firmicutes;Bacilli;Lactobacillales;Lactobacillaceae'),\n",
       " ('Bacteria;Firmicutes;Bacilli;Lactobacillales;Lactobacillaceae;Lactobacillus'),\n",
       " ('Bacteria;Firmicutes;Bacilli;Lactobacillales;Leuconostocaceae;Leuconostoc'),\n",
       " ('Bacteria;Firmicutes;Bacilli;Lactobacillales;Leuconostocaceae;Weissella'),\n",
       " ('Bacteria;Firmicutes;Bacilli;Lactobacillales;Streptococcaceae'),\n",
       " ('Bacteria;Firmicutes;Bacilli;Lactobacillales;Streptococcaceae;Lactococcus'),\n",
       " ('Bacteria;Firmicutes;Bacilli;Lactobacillales;Streptococcaceae;Streptococcus'),\n",
       " ('Bacteria;Firmicutes;Clostridia'),\n",
       " ('Bacteria;Firmicutes;Clostridia;Clostridiales'),\n",
       " ('Bacteria;Firmicutes;Clostridia;Clostridiales;Clostridiaceae'),\n",
       " ('Bacteria;Firmicutes;Clostridia;Clostridiales;IncertaeSedisXI'),\n",
       " ('Bacteria;Firmicutes;Clostridia;Clostridiales;IncertaeSedisXI;Anaerococcus'),\n",
       " ('Bacteria;Firmicutes;Clostridia;Clostridiales;IncertaeSedisXI;Anaerosphaera'),\n",
       " ('Bacteria;Firmicutes;Clostridia;Clostridiales;IncertaeSedisXI;Finegoldia'),\n",
       " ('Bacteria;Firmicutes;Clostridia;Clostridiales;IncertaeSedisXI;Gallicola'),\n",
       " ('Bacteria;Firmicutes;Clostridia;Clostridiales;IncertaeSedisXI;Helcococcus'),\n",
       " ('Bacteria;Firmicutes;Clostridia;Clostridiales;IncertaeSedisXI;Parvimonas'),\n",
       " ('Bacteria;Firmicutes;Clostridia;Clostridiales;IncertaeSedisXI;Peptoniphilus'),\n",
       " ('Bacteria;Firmicutes;Clostridia;Clostridiales;IncertaeSedisXIV;Blautia'),\n",
       " ('Bacteria;Firmicutes;Clostridia;Clostridiales;IncertaeSedisXIV;Howardella'),\n",
       " ('Bacteria;Firmicutes;Clostridia;Clostridiales;Lachnospiraceae'),\n",
       " ('Bacteria;Firmicutes;Clostridia;Clostridiales;Lachnospiraceae;Dorea'),\n",
       " ('Bacteria;Firmicutes;Clostridia;Clostridiales;Lachnospiraceae;Oribacterium'),\n",
       " ('Bacteria;Firmicutes;Clostridia;Clostridiales;Peptococcaceae;Peptococcus'),\n",
       " ('Bacteria;Firmicutes;Clostridia;Clostridiales;Peptostreptococcaceae'),\n",
       " ('Bacteria;Firmicutes;Clostridia;Clostridiales;Peptostreptococcaceae;Peptostreptococcus'),\n",
       " ('Bacteria;Firmicutes;Clostridia;Clostridiales;Ruminococcaceae'),\n",
       " ('Bacteria;Firmicutes;Clostridia;Clostridiales;Ruminococcaceae;Faecalibacterium'),\n",
       " ('Bacteria;Firmicutes;Clostridia;Clostridiales;Ruminococcaceae;Fastidiosipila'),\n",
       " ('Bacteria;Firmicutes;Clostridia;Clostridiales;Ruminococcaceae;Ruminococcus'),\n",
       " ('Bacteria;Firmicutes;Clostridia;Clostridiales;Veillonellaceae'),\n",
       " ('Bacteria;Firmicutes;Clostridia;Clostridiales;Veillonellaceae;Anaeroglobus'),\n",
       " ('Bacteria;Firmicutes;Clostridia;Clostridiales;Veillonellaceae;Dialister'),\n",
       " ('Bacteria;Firmicutes;Clostridia;Clostridiales;Veillonellaceae;Megasphaera'),\n",
       " ('Bacteria;Firmicutes;Clostridia;Clostridiales;Veillonellaceae;Selenomonas'),\n",
       " ('Bacteria;Firmicutes;Clostridia;Clostridiales;Veillonellaceae;Succiniclasticum'),\n",
       " ('Bacteria;Firmicutes;Clostridia;Clostridiales;Veillonellaceae;Veillonella'),\n",
       " ('Bacteria;Firmicutes;Erysipelotrichi;Erysipelotrichales;Erysipelotrichaceae'),\n",
       " ('Bacteria;Fusobacteria;Fusobacteria;Fusobacteriales;Fusobacteriaceae;Fusobacterium'),\n",
       " ('Bacteria;Fusobacteria;Fusobacteria;Fusobacteriales;Leptotrichiaceae'),\n",
       " ('Bacteria;Fusobacteria;Fusobacteria;Fusobacteriales;Leptotrichiaceae;Leptotrichia'),\n",
       " ('Bacteria;Fusobacteria;Fusobacteria;Fusobacteriales;Leptotrichiaceae;Streptobacillus'),\n",
       " ('Bacteria;Gemmatimonadetes;Gemmatimonadetes;Gemmatimonadales;Gemmatimonadaceae;Gemmatimonas'),\n",
       " ('Bacteria;Nitrospira;Nitrospira;Nitrospirales;Nitrospiraceae;Nitrospira'),\n",
       " ('Bacteria;Planctomycetes;Planctomycetacia;Planctomycetales;Planctomycetaceae'),\n",
       " ('Bacteria;Planctomycetes;Planctomycetacia;Planctomycetales;Planctomycetaceae;Gemmata'),\n",
       " ('Bacteria;Planctomycetes;Planctomycetacia;Planctomycetales;Planctomycetaceae;Singulisphaera'),\n",
       " ('Bacteria;Proteobacteria'),\n",
       " ('Bacteria;Proteobacteria;Alphaproteobacteria'),\n",
       " ('Bacteria;Proteobacteria;Alphaproteobacteria;Caulobacterales;Caulobacteraceae'),\n",
       " ('Bacteria;Proteobacteria;Alphaproteobacteria;Caulobacterales;Caulobacteraceae;Brevundimonas'),\n",
       " ('Bacteria;Proteobacteria;Alphaproteobacteria;Caulobacterales;Caulobacteraceae;Caulobacter'),\n",
       " ('Bacteria;Proteobacteria;Alphaproteobacteria;Caulobacterales;Caulobacteraceae;Phenylobacterium'),\n",
       " ('Bacteria;Proteobacteria;Alphaproteobacteria;Rhizobiales'),\n",
       " ('Bacteria;Proteobacteria;Alphaproteobacteria;Rhizobiales;Aurantimonadaceae'),\n",
       " ('Bacteria;Proteobacteria;Alphaproteobacteria;Rhizobiales;Aurantimonadaceae;Aurantimonas'),\n",
       " ('Bacteria;Proteobacteria;Alphaproteobacteria;Rhizobiales;Bradyrhizobiaceae'),\n",
       " ('Bacteria;Proteobacteria;Alphaproteobacteria;Rhizobiales;Bradyrhizobiaceae;Bosea'),\n",
       " ('Bacteria;Proteobacteria;Alphaproteobacteria;Rhizobiales;Bradyrhizobiaceae;Bradyrhizobium'),\n",
       " ('Bacteria;Proteobacteria;Alphaproteobacteria;Rhizobiales;Bradyrhizobiaceae;Rhodopseudomonas'),\n",
       " ('Bacteria;Proteobacteria;Alphaproteobacteria;Rhizobiales;Brucellaceae'),\n",
       " ('Bacteria;Proteobacteria;Alphaproteobacteria;Rhizobiales;Brucellaceae;Pseudochrobactrum'),\n",
       " ('Bacteria;Proteobacteria;Alphaproteobacteria;Rhizobiales;Hyphomicrobiaceae'),\n",
       " ('Bacteria;Proteobacteria;Alphaproteobacteria;Rhizobiales;Hyphomicrobiaceae;Devosia'),\n",
       " ('Bacteria;Proteobacteria;Alphaproteobacteria;Rhizobiales;Hyphomicrobiaceae;Hyphomicrobium'),\n",
       " ('Bacteria;Proteobacteria;Alphaproteobacteria;Rhizobiales;Hyphomicrobiaceae;Pedomicrobium'),\n",
       " ('Bacteria;Proteobacteria;Alphaproteobacteria;Rhizobiales;Methylobacteriaceae'),\n",
       " ('Bacteria;Proteobacteria;Alphaproteobacteria;Rhizobiales;Methylobacteriaceae;Methylobacterium'),\n",
       " ('Bacteria;Proteobacteria;Alphaproteobacteria;Rhizobiales;Phyllobacteriaceae'),\n",
       " ('Bacteria;Proteobacteria;Alphaproteobacteria;Rhizobiales;Phyllobacteriaceae;Mesorhizobium'),\n",
       " ('Bacteria;Proteobacteria;Alphaproteobacteria;Rhodobacterales;Rhodobacteraceae'),\n",
       " ('Bacteria;Proteobacteria;Alphaproteobacteria;Rhodobacterales;Rhodobacteraceae;Paracoccus'),\n",
       " ('Bacteria;Proteobacteria;Alphaproteobacteria;Rhodobacterales;Rhodobacteraceae;Rubellimicrobium'),\n",
       " ('Bacteria;Proteobacteria;Alphaproteobacteria;Rhodospirillales'),\n",
       " ('Bacteria;Proteobacteria;Alphaproteobacteria;Rhodospirillales;Acetobacteraceae'),\n",
       " ('Bacteria;Proteobacteria;Alphaproteobacteria;Rhodospirillales;Acetobacteraceae;Acetobacter'),\n",
       " ('Bacteria;Proteobacteria;Alphaproteobacteria;Rhodospirillales;Acetobacteraceae;Roseomonas'),\n",
       " ('Bacteria;Proteobacteria;Alphaproteobacteria;Rhodospirillales;Rhodospirillaceae;Skermanella'),\n",
       " ('Bacteria;Proteobacteria;Alphaproteobacteria;Sphingomonadales'),\n",
       " ('Bacteria;Proteobacteria;Alphaproteobacteria;Sphingomonadales;Erythrobacteraceae'),\n",
       " ('Bacteria;Proteobacteria;Alphaproteobacteria;Sphingomonadales;Erythrobacteraceae;Erythrobacter'),\n",
       " ('Bacteria;Proteobacteria;Alphaproteobacteria;Sphingomonadales;Sphingomonadaceae'),\n",
       " ('Bacteria;Proteobacteria;Alphaproteobacteria;Sphingomonadales;Sphingomonadaceae;Novosphingobium'),\n",
       " ('Bacteria;Proteobacteria;Alphaproteobacteria;Sphingomonadales;Sphingomonadaceae;Sphingobium'),\n",
       " ('Bacteria;Proteobacteria;Alphaproteobacteria;Sphingomonadales;Sphingomonadaceae;Sphingomonas'),\n",
       " ('Bacteria;Proteobacteria;Alphaproteobacteria;Sphingomonadales;Sphingomonadaceae;Sphingopyxis'),\n",
       " ('Bacteria;Proteobacteria;Betaproteobacteria'),\n",
       " ('Bacteria;Proteobacteria;Betaproteobacteria;Burkholderiales'),\n",
       " ('Bacteria;Proteobacteria;Betaproteobacteria;Burkholderiales;Alcaligenaceae'),\n",
       " ('Bacteria;Proteobacteria;Betaproteobacteria;Burkholderiales;Alcaligenaceae;Alcaligenes'),\n",
       " ('Bacteria;Proteobacteria;Betaproteobacteria;Burkholderiales;Alcaligenaceae;Sutterella'),\n",
       " ('Bacteria;Proteobacteria;Betaproteobacteria;Burkholderiales;Burkholderiaceae'),\n",
       " ('Bacteria;Proteobacteria;Betaproteobacteria;Burkholderiales;Burkholderiaceae;Burkholderia'),\n",
       " ('Bacteria;Proteobacteria;Betaproteobacteria;Burkholderiales;Burkholderiaceae;Cupriavidus'),\n",
       " ('Bacteria;Proteobacteria;Betaproteobacteria;Burkholderiales;Burkholderiaceae;Limnobacter'),\n",
       " ('Bacteria;Proteobacteria;Betaproteobacteria;Burkholderiales;Burkholderiaceae;Ralstonia'),\n",
       " ('Bacteria;Proteobacteria;Betaproteobacteria;Burkholderiales;Burkholderiaceae;Wautersia'),\n",
       " ('Bacteria;Proteobacteria;Betaproteobacteria;Burkholderiales;Burkholderiales_incertae_sedis'),\n",
       " ('Bacteria;Proteobacteria;Betaproteobacteria;Burkholderiales;Burkholderiales_incertae_sedis;Aquabacterium'),\n",
       " ('Bacteria;Proteobacteria;Betaproteobacteria;Burkholderiales;Comamonadaceae'),\n",
       " ('Bacteria;Proteobacteria;Betaproteobacteria;Burkholderiales;Comamonadaceae;Ottowia'),\n",
       " ('Bacteria;Proteobacteria;Betaproteobacteria;Burkholderiales;Comamonadaceae;Pelomonas'),\n",
       " ('Bacteria;Proteobacteria;Betaproteobacteria;Burkholderiales;Comamonadaceae;Schlegelella'),\n",
       " ('Bacteria;Proteobacteria;Betaproteobacteria;Burkholderiales;Comamonadaceae;Variovorax'),\n",
       " ('Bacteria;Proteobacteria;Betaproteobacteria;Burkholderiales;Oxalobacteraceae'),\n",
       " ('Bacteria;Proteobacteria;Betaproteobacteria;Burkholderiales;Oxalobacteraceae;Duganella'),\n",
       " ('Bacteria;Proteobacteria;Betaproteobacteria;Burkholderiales;Oxalobacteraceae;Herbaspirillum'),\n",
       " ('Bacteria;Proteobacteria;Betaproteobacteria;Burkholderiales;Oxalobacteraceae;Herminiimonas'),\n",
       " ('Bacteria;Proteobacteria;Betaproteobacteria;Burkholderiales;Oxalobacteraceae;Janthinobacterium'),\n",
       " ('Bacteria;Proteobacteria;Betaproteobacteria;Burkholderiales;Oxalobacteraceae;Naxibacter'),\n",
       " ('Bacteria;Proteobacteria;Betaproteobacteria;Methylophilales;Methylophilaceae'),\n",
       " ('Bacteria;Proteobacteria;Betaproteobacteria;Methylophilales;Methylophilaceae;Methylophilus'),\n",
       " ('Bacteria;Proteobacteria;Betaproteobacteria;Neisseriales;Neisseriaceae'),\n",
       " ('Bacteria;Proteobacteria;Betaproteobacteria;Neisseriales;Neisseriaceae;Conchiformibius'),\n",
       " ('Bacteria;Proteobacteria;Betaproteobacteria;Neisseriales;Neisseriaceae;Kingella'),\n",
       " ('Bacteria;Proteobacteria;Betaproteobacteria;Neisseriales;Neisseriaceae;Neisseria'),\n",
       " ('Bacteria;Proteobacteria;Betaproteobacteria;Nitrosomonadales;Nitrosomonadaceae;Nitrosomonas'),\n",
       " ('Bacteria;Proteobacteria;Betaproteobacteria;Rhodocyclales;Rhodocyclaceae'),\n",
       " ('Bacteria;Proteobacteria;Betaproteobacteria;Rhodocyclales;Rhodocyclaceae;Dechloromonas'),\n",
       " ('Bacteria;Proteobacteria;Betaproteobacteria;Rhodocyclales;Rhodocyclaceae;Shinella'),\n",
       " ('Bacteria;Proteobacteria;Betaproteobacteria;Rhodocyclales;Rhodocyclaceae;Thauera'),\n",
       " ('Bacteria;Proteobacteria;Betaproteobacteria;Rhodocyclales;Rhodocyclaceae;Zoogloea'),\n",
       " ('Bacteria;Proteobacteria;Deltaproteobacteria'),\n",
       " ('Bacteria;Proteobacteria;Deltaproteobacteria;Desulfovibrionales'),\n",
       " ('Bacteria;Proteobacteria;Deltaproteobacteria;Desulfovibrionales;Desulfovibrionaceae;Desulfovibrio'),\n",
       " ('Bacteria;Proteobacteria;Deltaproteobacteria;Myxococcales'),\n",
       " ('Bacteria;Proteobacteria;Deltaproteobacteria;Myxococcales;Cystobacteraceae;Anaeromyxobacter'),\n",
       " ('Bacteria;Proteobacteria;Deltaproteobacteria;Myxococcales;Phaselicystidaceae;Phaselicystis'),\n",
       " ('Bacteria;Proteobacteria;Deltaproteobacteria;Myxococcales;Polyangiaceae;Chondromyces'),\n",
       " ('Bacteria;Proteobacteria;Epsilonproteobacteria'),\n",
       " ('Bacteria;Proteobacteria;Epsilonproteobacteria;Campylobacterales'),\n",
       " ('Bacteria;Proteobacteria;Epsilonproteobacteria;Campylobacterales;Campylobacteraceae;Campylobacter'),\n",
       " ('Bacteria;Proteobacteria;Gammaproteobacteria'),\n",
       " ('Bacteria;Proteobacteria;Gammaproteobacteria;Aeromonadales;Aeromonadaceae;Aeromonas'),\n",
       " ('Bacteria;Proteobacteria;Gammaproteobacteria;Aeromonadales;Aeromonadaceae;Tolumonas'),\n",
       " ('Bacteria;Proteobacteria;Gammaproteobacteria;Alteromonadales;Alteromonadaceae;Marinobacter'),\n",
       " ('Bacteria;Proteobacteria;Gammaproteobacteria;Alteromonadales;Alteromonadaceae;Microbulbifer'),\n",
       " ('Bacteria;Proteobacteria;Gammaproteobacteria;Alteromonadales;Idiomarinaceae;Idiomarina'),\n",
       " ('Bacteria;Proteobacteria;Gammaproteobacteria;Alteromonadales;Shewanellaceae;Shewanella'),\n",
       " ('Bacteria;Proteobacteria;Gammaproteobacteria;Chromatiales;Chromatiaceae;Rheinheimera'),\n",
       " ('Bacteria;Proteobacteria;Gammaproteobacteria;Enterobacteriales;Enterobacteriaceae'),\n",
       " ('Bacteria;Proteobacteria;Gammaproteobacteria;Enterobacteriales;Enterobacteriaceae;Escherichia/Shigella'),\n",
       " ('Bacteria;Proteobacteria;Gammaproteobacteria;Enterobacteriales;Enterobacteriaceae;Pantoea'),\n",
       " ('Bacteria;Proteobacteria;Gammaproteobacteria;Legionellales;Coxiellaceae;Aquicella'),\n",
       " ('Bacteria;Proteobacteria;Gammaproteobacteria;Legionellales;Legionellaceae;Legionella'),\n",
       " ('Bacteria;Proteobacteria;Gammaproteobacteria;Oceanospirillales;Alcanivoracaceae;Alcanivorax'),\n",
       " ('Bacteria;Proteobacteria;Gammaproteobacteria;Oceanospirillales;Halomonadaceae'),\n",
       " ('Bacteria;Proteobacteria;Gammaproteobacteria;Oceanospirillales;Oceanospirillaceae;Marinomonas'),\n",
       " ('Bacteria;Proteobacteria;Gammaproteobacteria;Pasteurellales;Pasteurellaceae'),\n",
       " ('Bacteria;Proteobacteria;Gammaproteobacteria;Pasteurellales;Pasteurellaceae;Mannheimia'),\n",
       " ('Bacteria;Proteobacteria;Gammaproteobacteria;Pseudomonadales;Moraxellaceae'),\n",
       " ('Bacteria;Proteobacteria;Gammaproteobacteria;Pseudomonadales;Moraxellaceae;Acinetobacter'),\n",
       " ('Bacteria;Proteobacteria;Gammaproteobacteria;Pseudomonadales;Moraxellaceae;Alkanindiges'),\n",
       " ('Bacteria;Proteobacteria;Gammaproteobacteria;Pseudomonadales;Moraxellaceae;Enhydrobacter'),\n",
       " ('Bacteria;Proteobacteria;Gammaproteobacteria;Pseudomonadales;Moraxellaceae;Moraxella'),\n",
       " ('Bacteria;Proteobacteria;Gammaproteobacteria;Pseudomonadales;Moraxellaceae;Psychrobacter'),\n",
       " ('Bacteria;Proteobacteria;Gammaproteobacteria;Pseudomonadales;Pseudomonadaceae'),\n",
       " ('Bacteria;Proteobacteria;Gammaproteobacteria;Pseudomonadales;Pseudomonadaceae;Cellvibrio'),\n",
       " ('Bacteria;Proteobacteria;Gammaproteobacteria;Pseudomonadales;Pseudomonadaceae;Pseudomonas'),\n",
       " ('Bacteria;Proteobacteria;Gammaproteobacteria;Xanthomonadales;Sinobacteraceae;Nevskia'),\n",
       " ('Bacteria;Proteobacteria;Gammaproteobacteria;Xanthomonadales;Sinobacteraceae;Steroidobacter'),\n",
       " ('Bacteria;Proteobacteria;Gammaproteobacteria;Xanthomonadales;Xanthomonadaceae'),\n",
       " ('Bacteria;Proteobacteria;Gammaproteobacteria;Xanthomonadales;Xanthomonadaceae;Luteimonas'),\n",
       " ('Bacteria;Proteobacteria;Gammaproteobacteria;Xanthomonadales;Xanthomonadaceae;Lysobacter'),\n",
       " ('Bacteria;Proteobacteria;Gammaproteobacteria;Xanthomonadales;Xanthomonadaceae;Pseudoxanthomonas'),\n",
       " ('Bacteria;Proteobacteria;Gammaproteobacteria;Xanthomonadales;Xanthomonadaceae;Rhodanobacter'),\n",
       " ('Bacteria;Proteobacteria;Gammaproteobacteria;Xanthomonadales;Xanthomonadaceae;Rudaea'),\n",
       " ('Bacteria;Proteobacteria;Gammaproteobacteria;Xanthomonadales;Xanthomonadaceae;Stenotrophomonas'),\n",
       " ('Bacteria;Spirochaetes;Spirochaetes;Spirochaetales;Leptospiraceae;Turneriella'),\n",
       " ('Bacteria;Spirochaetes;Spirochaetes;Spirochaetales;Spirochaetaceae;Treponema'),\n",
       " ('Bacteria;SR1;SR1_genera_incertae_sedis'),\n",
       " ('Bacteria;Synergistetes;Synergistia;Synergistales;Synergistaceae'),\n",
       " ('Bacteria;Synergistetes;Synergistia;Synergistales;Synergistaceae;Cloacibacillus'),\n",
       " ('Bacteria;Synergistetes;Synergistia;Synergistales;Synergistaceae;Jonquetella'),\n",
       " ('Bacteria;Synergistetes;Synergistia;Synergistales;Synergistaceae;Pyramidobacter'),\n",
       " ('Bacteria;TM7;TM7_genera_incertae_sedis'),\n",
       " ('Bacteria;Verrucomicrobia;Spartobacteria;Spartobacteria_genera_incertae_sedis'),\n",
       " ('Bacteria;Verrucomicrobia;Verrucomicrobiae;Verrucomicrobiales;Verrucomicrobiaceae;Verrucomicrobium'),\n",
       " ('Unclassified')]"
      ]
     },
     "execution_count": 18,
     "metadata": {},
     "output_type": "execute_result"
    }
   ],
   "source": [
    "session.query(distinct(OTU.lowest_taxonomic_unit_found)).all()"
   ]
  },
  {
   "cell_type": "code",
   "execution_count": 111,
   "metadata": {},
   "outputs": [
    {
     "name": "stdout",
     "output_type": "stream",
     "text": [
      "enter the sample number : BB_941\n"
     ]
    }
   ],
   "source": [
    "sample_no = input(\"enter the sample number : \")"
   ]
  },
  {
   "cell_type": "code",
   "execution_count": 109,
   "metadata": {
    "collapsed": true
   },
   "outputs": [],
   "source": [
    "query_sample = int(sample_no[3:])\n",
    "for metadata in session.query(Metadata).filter(Metadata.SAMPLEID==query_sample).all():\n",
    "    result = (metadata.__dict__)\n",
    "\n",
    "if (len(result) == 0):\n",
    "    result = \"Sample Metadata not available\""
   ]
  },
  {
   "cell_type": "code",
   "execution_count": 110,
   "metadata": {},
   "outputs": [
    {
     "data": {
      "text/plain": [
       "'Sample Metadata not available'"
      ]
     },
     "execution_count": 110,
     "metadata": {},
     "output_type": "execute_result"
    }
   ],
   "source": [
    "result"
   ]
  },
  {
   "cell_type": "code",
   "execution_count": 99,
   "metadata": {},
   "outputs": [
    {
     "data": {
      "text/plain": [
       "942"
      ]
     },
     "execution_count": 99,
     "metadata": {},
     "output_type": "execute_result"
    }
   ],
   "source": [
    "query_sample"
   ]
  },
  {
   "cell_type": "code",
   "execution_count": 101,
   "metadata": {},
   "outputs": [
    {
     "data": {
      "text/plain": [
       "0"
      ]
     },
     "execution_count": 101,
     "metadata": {},
     "output_type": "execute_result"
    }
   ],
   "source": [
    "len(result)"
   ]
  },
  {
   "cell_type": "code",
   "execution_count": 79,
   "metadata": {
    "collapsed": true
   },
   "outputs": [],
   "source": [
    "sample_keys=[\"AGE\", \"BBTYPE\", \"ETHNICITY\", \"GENDER\", \"LOCATION\", \"SAMPLEID\"]"
   ]
  },
  {
   "cell_type": "code",
   "execution_count": 82,
   "metadata": {
    "collapsed": true
   },
   "outputs": [],
   "source": [
    "sample_dict = {key:result[key] for key in sample_keys}"
   ]
  },
  {
   "cell_type": "code",
   "execution_count": 83,
   "metadata": {},
   "outputs": [
    {
     "data": {
      "text/plain": [
       "{'AGE': 34,\n",
       " 'BBTYPE': 'I',\n",
       " 'ETHNICITY': 'Caucasian/Midleastern',\n",
       " 'GENDER': 'F',\n",
       " 'LOCATION': 'Chicago/IL',\n",
       " 'SAMPLEID': 941}"
      ]
     },
     "execution_count": 83,
     "metadata": {},
     "output_type": "execute_result"
    }
   ],
   "source": [
    "sample_dict"
   ]
  },
  {
   "cell_type": "code",
   "execution_count": 87,
   "metadata": {
    "collapsed": true
   },
   "outputs": [],
   "source": [
    "result ={}"
   ]
  },
  {
   "cell_type": "code",
   "execution_count": 112,
   "metadata": {
    "collapsed": true
   },
   "outputs": [],
   "source": [
    "query_sample = int(sample_no[3:])\n",
    "wfreq = session.query(Metadata.WFREQ).filter(Metadata.SAMPLEID==query_sample).all()"
   ]
  },
  {
   "cell_type": "code",
   "execution_count": 117,
   "metadata": {},
   "outputs": [
    {
     "data": {
      "text/plain": [
       "int"
      ]
     },
     "execution_count": 117,
     "metadata": {},
     "output_type": "execute_result"
    }
   ],
   "source": [
    "type(wfreq[0][0])"
   ]
  },
  {
   "cell_type": "code",
   "execution_count": 125,
   "metadata": {},
   "outputs": [],
   "source": [
    "from sqlalchemy import inspect\n",
    "inspector = inspect(engine)"
   ]
  },
  {
   "cell_type": "code",
   "execution_count": 163,
   "metadata": {},
   "outputs": [
    {
     "data": {
      "text/plain": [
       "[{'autoincrement': 'auto',\n",
       "  'default': None,\n",
       "  'name': 'otu_id',\n",
       "  'nullable': False,\n",
       "  'primary_key': 1,\n",
       "  'type': INTEGER()},\n",
       " {'autoincrement': 'auto',\n",
       "  'default': None,\n",
       "  'name': 'lowest_taxonomic_unit_found',\n",
       "  'nullable': True,\n",
       "  'primary_key': 0,\n",
       "  'type': TEXT()}]"
      ]
     },
     "execution_count": 163,
     "metadata": {},
     "output_type": "execute_result"
    }
   ],
   "source": [
    "inspector.get_columns('OTU')"
   ]
  },
  {
   "cell_type": "code",
   "execution_count": null,
   "metadata": {
    "collapsed": true
   },
   "outputs": [],
   "source": [
    "sample = input('Enter the sample no: ')"
   ]
  },
  {
   "cell_type": "code",
   "execution_count": 137,
   "metadata": {},
   "outputs": [
    {
     "data": {
      "text/plain": [
       "[(11),\n",
       " (19),\n",
       " (22),\n",
       " (24),\n",
       " (39),\n",
       " (41),\n",
       " (42),\n",
       " (79),\n",
       " (81),\n",
       " (84),\n",
       " (93),\n",
       " (102),\n",
       " (121),\n",
       " (122),\n",
       " (133),\n",
       " (154),\n",
       " (159),\n",
       " (165),\n",
       " (170),\n",
       " (185),\n",
       " (189),\n",
       " (198),\n",
       " (226),\n",
       " (235),\n",
       " (244),\n",
       " (246),\n",
       " (258),\n",
       " (259),\n",
       " (300),\n",
       " (307),\n",
       " (314),\n",
       " (320),\n",
       " (327),\n",
       " (328),\n",
       " (340),\n",
       " (342),\n",
       " (352),\n",
       " (357),\n",
       " (359),\n",
       " (361),\n",
       " (373),\n",
       " (381),\n",
       " (386),\n",
       " (400),\n",
       " (404),\n",
       " (407),\n",
       " (412),\n",
       " (414),\n",
       " (482),\n",
       " (513),\n",
       " (564),\n",
       " (593),\n",
       " (620),\n",
       " (650),\n",
       " (725),\n",
       " (728),\n",
       " (791),\n",
       " (794),\n",
       " (821),\n",
       " (830),\n",
       " (833),\n",
       " (841),\n",
       " (854),\n",
       " (866),\n",
       " (874),\n",
       " (881),\n",
       " (907),\n",
       " (919),\n",
       " (922),\n",
       " (944),\n",
       " (1094),\n",
       " (1115),\n",
       " (1155),\n",
       " (1159),\n",
       " (1167),\n",
       " (1169),\n",
       " (1174),\n",
       " (1179),\n",
       " (1189),\n",
       " (1191),\n",
       " (1193),\n",
       " (1199),\n",
       " (1208),\n",
       " (1217),\n",
       " (1223),\n",
       " (1227),\n",
       " (1232),\n",
       " (1243),\n",
       " (1254),\n",
       " (1274),\n",
       " (1314),\n",
       " (1484),\n",
       " (1495),\n",
       " (1496),\n",
       " (1497),\n",
       " (1498),\n",
       " (1501),\n",
       " (1502),\n",
       " (1503),\n",
       " (1505),\n",
       " (1515),\n",
       " (1524),\n",
       " (1576),\n",
       " (1600),\n",
       " (1795),\n",
       " (1935),\n",
       " (1944),\n",
       " (1947),\n",
       " (1950),\n",
       " (1954),\n",
       " (1959),\n",
       " (1960),\n",
       " (1962),\n",
       " (1965),\n",
       " (1968),\n",
       " (1977),\n",
       " (1984),\n",
       " (1991),\n",
       " (1997),\n",
       " (2011),\n",
       " (2024),\n",
       " (2036),\n",
       " (2039),\n",
       " (2040),\n",
       " (2051),\n",
       " (2054),\n",
       " (2062),\n",
       " (2065),\n",
       " (2068),\n",
       " (2077),\n",
       " (2080),\n",
       " (2084),\n",
       " (2093),\n",
       " (2096),\n",
       " (2110),\n",
       " (2114),\n",
       " (2115),\n",
       " (2136),\n",
       " (2165),\n",
       " (2167),\n",
       " (2178),\n",
       " (2184),\n",
       " (2186),\n",
       " (2188),\n",
       " (2191),\n",
       " (2192),\n",
       " (2197),\n",
       " (2202),\n",
       " (2212),\n",
       " (2216),\n",
       " (2217),\n",
       " (2229),\n",
       " (2235),\n",
       " (2244),\n",
       " (2247),\n",
       " (2256),\n",
       " (2263),\n",
       " (2264),\n",
       " (2268),\n",
       " (2275),\n",
       " (2291),\n",
       " (2318),\n",
       " (2334),\n",
       " (2335),\n",
       " (2342),\n",
       " (2350),\n",
       " (2396),\n",
       " (2413),\n",
       " (2419),\n",
       " (2423),\n",
       " (2473),\n",
       " (2475),\n",
       " (2483),\n",
       " (2491),\n",
       " (2508),\n",
       " (2539),\n",
       " (2542),\n",
       " (2546),\n",
       " (2549),\n",
       " (2571),\n",
       " (2603),\n",
       " (2633),\n",
       " (2722),\n",
       " (2737),\n",
       " (2739),\n",
       " (2750),\n",
       " (2752),\n",
       " (2753),\n",
       " (2758),\n",
       " (2782),\n",
       " (2795),\n",
       " (2811),\n",
       " (2820),\n",
       " (2829),\n",
       " (2837),\n",
       " (2840),\n",
       " (2852),\n",
       " (2859),\n",
       " (2873),\n",
       " (2876),\n",
       " (2908),\n",
       " (2915),\n",
       " (2917),\n",
       " (2936),\n",
       " (2949),\n",
       " (2964),\n",
       " (2968),\n",
       " (2985),\n",
       " (2989),\n",
       " (2994),\n",
       " (3427),\n",
       " (3439),\n",
       " (3450),\n",
       " (3453)]"
      ]
     },
     "execution_count": 137,
     "metadata": {},
     "output_type": "execute_result"
    }
   ],
   "source": [
    "session.query(Samples.otu_id).filter(Samples.BB_940> 0).all()"
   ]
  },
  {
   "cell_type": "code",
   "execution_count": 169,
   "metadata": {},
   "outputs": [],
   "source": [
    "samples_df = pd.read_sql_table('samples', engine)"
   ]
  },
  {
   "cell_type": "code",
   "execution_count": 172,
   "metadata": {
    "collapsed": true
   },
   "outputs": [],
   "source": [
    "query_sample = 'BB_941'"
   ]
  },
  {
   "cell_type": "code",
   "execution_count": 174,
   "metadata": {},
   "outputs": [],
   "source": [
    "result_df = ((samples_df[samples_df[query_sample]>0]).sort_values(by = query_sample, ascending=False))[['otu_id',query_sample]]"
   ]
  },
  {
   "cell_type": "code",
   "execution_count": 179,
   "metadata": {},
   "outputs": [],
   "source": [
    "result = result_df.to_dict(orient='list')"
   ]
  },
  {
   "cell_type": "raw",
   "metadata": {},
   "source": [
    "result"
   ]
  },
  {
   "cell_type": "code",
   "execution_count": 180,
   "metadata": {},
   "outputs": [
    {
     "name": "stdout",
     "output_type": "stream",
     "text": [
      "{'otu_id': [2722, 944, 2419, 2539, 3450, 1795, 2389, 1314, 922, 1167, 2859, 963, 2964, 2308, 2651, 482, 874, 2908, 1870, 2264, 41, 728, 2782, 352, 1959, 1188, 1926, 2461, 2688, 2704, 189, 2890, 1929, 3312, 2500, 1977, 1310, 296, 854, 939, 710, 1200, 555, 261, 2676, 2850, 2687, 2672, 2666, 641, 562, 2764, 2682, 308, 314, 730, 307, 2927, 301, 3036, 3120, 3134, 3389, 3446, 3458, 2660, 2632, 2650, 2275, 1672, 1760, 1213, 1824, 1202, 1199, 1942, 1186, 2077, 2091, 930, 920, 1600, 2318, 2340, 919, 2399, 2404, 2438, 830, 820, 801, 2551, 2581, 3461], 'BB_941': [194, 178, 162, 92, 84, 40, 37, 28, 27, 24, 21, 21, 13, 10, 10, 8, 8, 5, 5, 4, 4, 3, 3, 3, 3, 3, 3, 2, 2, 2, 2, 2, 2, 2, 2, 2, 2, 2, 2, 2, 2, 2, 2, 2, 1, 1, 1, 1, 1, 1, 1, 1, 1, 1, 1, 1, 1, 1, 1, 1, 1, 1, 1, 1, 1, 1, 1, 1, 1, 1, 1, 1, 1, 1, 1, 1, 1, 1, 1, 1, 1, 1, 1, 1, 1, 1, 1, 1, 1, 1, 1, 1, 1, 1]}\n"
     ]
    }
   ],
   "source": [
    "print(result)"
   ]
  },
  {
   "cell_type": "code",
   "execution_count": null,
   "metadata": {
    "collapsed": true
   },
   "outputs": [],
   "source": []
  }
 ],
 "metadata": {
  "kernelspec": {
   "display_name": "Python [conda env:PythonData]",
   "language": "python",
   "name": "conda-env-PythonData-py"
  },
  "language_info": {
   "codemirror_mode": {
    "name": "ipython",
    "version": 3
   },
   "file_extension": ".py",
   "mimetype": "text/x-python",
   "name": "python",
   "nbconvert_exporter": "python",
   "pygments_lexer": "ipython3",
   "version": "3.6.3"
  }
 },
 "nbformat": 4,
 "nbformat_minor": 2
}
